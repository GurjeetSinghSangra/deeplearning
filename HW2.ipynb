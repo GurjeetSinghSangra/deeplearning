{
 "cells": [
  {
   "cell_type": "markdown",
   "metadata": {
    "id": "5xKnZItOfsyU"
   },
   "source": [
    "Name: Gurjeet Singh"
   ]
  },
  {
   "cell_type": "markdown",
   "metadata": {
    "id": "QUc9frYnVBI_"
   },
   "source": [
    "#**HW 2: Optimize and train Deep Models**\n",
    "\n",
    "In this homework, we will explore how to develop a simple Deep Neural Network for a classification problem. We will explore two common libraries: TensorFlow and Keras.\n",
    "Then we will explore how to face a well known problem that is common to encounter during the training phase: the Overfitting.\n",
    "Finally, we will study how to perform a fair model selection.\n",
    "Hint: Before starting the exercise take a look at how Tensorflow and Keras are designed.  https://keras.io/"
   ]
  },
  {
   "cell_type": "markdown",
   "metadata": {
    "id": "e-Nc7mFSVEiU"
   },
   "source": [
    "##Exercise 2.1: Image Classficiation with Tensorflow and Keras\n",
    "\n",
    "In this first exercise we will develop a 3 layers Neural Network to perfrom classification.\n",
    "\n",
    "Let's start importing the libraries we will need and setting a couple of environmental variables.\n"
   ]
  },
  {
   "cell_type": "code",
   "execution_count": null,
   "metadata": {
    "id": "bWn9FzneVqJo"
   },
   "outputs": [],
   "source": [
    "import matplotlib as mpl\n",
    "import matplotlib.pyplot as plt\n",
    "import numpy as np\n",
    "import os\n",
    "import pandas as pd\n",
    "import sklearn\n",
    "import sys\n",
    "import tensorflow as tf\n",
    "from tensorflow import keras  # tf.keras\n",
    "import time\n",
    "\n",
    "import logging\n",
    "logging.disable(logging.WARNING)\n",
    "os.environ[\"TF_CPP_MIN_LOG_LEVEL\"] = \"3\" \n",
    "\n",
    "\n",
    "\n",
    "tf.random.set_seed(42)\n",
    "# os.environ['TF_DETERMINISTIC_OPS']='1'"
   ]
  },
  {
   "cell_type": "markdown",
   "metadata": {
    "id": "LT2HMYDEXcx0"
   },
   "source": [
    "### Load Data: IMDB dataset\n",
    "\n",
    "In this HW, we use the IMDB dataset that can be easily downloaded using Keras. The dataset contains 50,000 movie reviews from IMDB, labeled by sentiment (positive/negative). Reviews have been preprocessed, and each review is encoded as a sequence of word indexes. For convenience, the words are indexed by the overall frequency in the dataset, so that for example the integer \"3\" encodes the 3rd most frequent word in the data. For testing purposes, we will only consider the first 10,000  most common words.\n",
    "By default, the load_data method returns a breakdown of the dataset into training and test sets. Both these sets contain 25,000 samples. To also have a validation set, we split the test set in half.\n",
    "\n"
   ]
  },
  {
   "cell_type": "code",
   "execution_count": null,
   "metadata": {
    "colab": {
     "base_uri": "https://localhost:8080/"
    },
    "id": "JZv86gBLXj-D",
    "outputId": "4a900a32-663d-4871-ea5e-2353c3d8915f"
   },
   "outputs": [
    {
     "name": "stdout",
     "output_type": "stream",
     "text": [
      "Downloading data from https://storage.googleapis.com/tensorflow/tf-keras-datasets/imdb.npz\n",
      "17465344/17464789 [==============================] - 0s 0us/step\n"
     ]
    },
    {
     "name": "stderr",
     "output_type": "stream",
     "text": [
      "<string>:6: VisibleDeprecationWarning: Creating an ndarray from ragged nested sequences (which is a list-or-tuple of lists-or-tuples-or ndarrays with different lengths or shapes) is deprecated. If you meant to do this, you must specify 'dtype=object' when creating the ndarray\n",
      "/usr/local/lib/python3.7/dist-packages/tensorflow/python/keras/datasets/imdb.py:159: VisibleDeprecationWarning: Creating an ndarray from ragged nested sequences (which is a list-or-tuple of lists-or-tuples-or ndarrays with different lengths or shapes) is deprecated. If you meant to do this, you must specify 'dtype=object' when creating the ndarray\n",
      "  x_train, y_train = np.array(xs[:idx]), np.array(labels[:idx])\n",
      "/usr/local/lib/python3.7/dist-packages/tensorflow/python/keras/datasets/imdb.py:160: VisibleDeprecationWarning: Creating an ndarray from ragged nested sequences (which is a list-or-tuple of lists-or-tuples-or ndarrays with different lengths or shapes) is deprecated. If you meant to do this, you must specify 'dtype=object' when creating the ndarray\n",
      "  x_test, y_test = np.array(xs[idx:]), np.array(labels[idx:])\n"
     ]
    }
   ],
   "source": [
    "num_words = 1000\n",
    "(X_train, y_train), (X_test, y_test) = keras.datasets.imdb.load_data(num_words=num_words)\n",
    "(X_valid, X_test) = X_test[:12500], X_test[12500:]\n",
    "(y_valid, y_test) = y_test[:12500], y_test[12500:]"
   ]
  },
  {
   "cell_type": "markdown",
   "metadata": {
    "id": "TEZHVHpuPdQF"
   },
   "source": [
    "In this HW we will consider a Deep Neural Network. The IMDB data consists in reviews, each one composed by a seqeunce of words. In order to encode each review in a single tensor with a fixed number of elements, we will use multi-hot encoding. Multi-hot-encoding our lists means turning them into vectors of 0s and 1s. Concretely, this would mean for instance turning the sequence [3, 5] into a 10,000-dimensional vector that would be all-zeros except for indices 3 and 5, which would be ones. The obtained input representation indicates which words are present (at least one time) in the sentence.\n",
    "\n",
    " "
   ]
  },
  {
   "cell_type": "code",
   "execution_count": null,
   "metadata": {
    "id": "hxE9DhiFPP0T"
   },
   "outputs": [],
   "source": [
    "def multi_hot_encoder(dataset, num_word):\n",
    "  dataset_multi_hot=[]\n",
    "  for sequence in dataset:\n",
    "    index, _ = tf.unique(sequence)\n",
    "    dataset_multi_hot.append(tf.reduce_max(tf.one_hot(index-1, num_word, dtype=tf.int32), axis=0))\n",
    "  dataset_multi_hot = tf.stack(dataset_multi_hot)\n",
    "  return dataset_multi_hot\n",
    "\n",
    "X_train = multi_hot_encoder(X_train,num_words)\n",
    "X_test = multi_hot_encoder(X_test,num_words)\n",
    "X_valid = multi_hot_encoder(X_valid,num_words)"
   ]
  },
  {
   "cell_type": "markdown",
   "metadata": {
    "id": "jGUg8TexZMNf"
   },
   "source": [
    "### Define the model:\n",
    "\n",
    "Let's build a Sequential model (keras.models.Sequential) and add four layers to it by calling its add() method:\n",
    "\n",
    "\n",
    "*   a input layer (tf.keras.Input) that is the first layer in your model. With this layer you should specify the input_shape argument, leaving out the batch size: (num_words,);\n",
    "*  a Dense layer (keras.layers.Dense) with 16 neurons, and the \"relu\" activation function;\n",
    "* another Dense layer with 16 neurons, also with the \"relu\" activation function;\n",
    "* a final Dense layer with 1 output neurons, and with the \"sigmoid\" activation (since we considering a binary classification task)."
   ]
  },
  {
   "cell_type": "code",
   "execution_count": null,
   "metadata": {
    "id": "OaoEISyaZL56"
   },
   "outputs": [],
   "source": [
    "model = keras.models.Sequential()\n",
    "model.add(tf.keras.Input(shape=(num_words,)))\n",
    "model.add(keras.layers.Dense(16, activation=\"relu\"))\n",
    "model.add(keras.layers.Dense(16, activation=\"relu\"))\n",
    "model.add(keras.layers.Dense(1, activation=\"sigmoid\"))\n",
    "\n"
   ]
  },
  {
   "cell_type": "markdown",
   "metadata": {
    "id": "fYfxUOQVZljh"
   },
   "source": [
    "Call the model's summary() method to check if the model has been built correctly. Also, try using keras.utils.plot_model() to save an image of your model's architecture."
   ]
  },
  {
   "cell_type": "code",
   "execution_count": null,
   "metadata": {
    "colab": {
     "base_uri": "https://localhost:8080/"
    },
    "id": "IpGkQl5dZoWq",
    "outputId": "801de6bf-3675-4802-f040-9a7ef80e93d8"
   },
   "outputs": [
    {
     "name": "stdout",
     "output_type": "stream",
     "text": [
      "Model: \"sequential\"\n",
      "_________________________________________________________________\n",
      "Layer (type)                 Output Shape              Param #   \n",
      "=================================================================\n",
      "dense (Dense)                (None, 16)                16016     \n",
      "_________________________________________________________________\n",
      "dense_1 (Dense)              (None, 16)                272       \n",
      "_________________________________________________________________\n",
      "dense_2 (Dense)              (None, 1)                 17        \n",
      "=================================================================\n",
      "Total params: 16,305\n",
      "Trainable params: 16,305\n",
      "Non-trainable params: 0\n",
      "_________________________________________________________________\n"
     ]
    }
   ],
   "source": [
    "model.summary()"
   ]
  },
  {
   "cell_type": "code",
   "execution_count": null,
   "metadata": {
    "colab": {
     "base_uri": "https://localhost:8080/",
     "height": 422
    },
    "id": "b1NbkrXRZwOA",
    "outputId": "072be6ac-d3cb-4767-c429-230c1b3132c0"
   },
   "outputs": [
    {
     "data": {
      "image/png": "[encoded data removed]",
      "text/plain": [
       "<IPython.core.display.Image object>"
      ]
     },
     "execution_count": 7,
     "metadata": {
      "tags": []
     },
     "output_type": "execute_result"
    }
   ],
   "source": [
    "keras.utils.plot_model(model, \"my_imdb_model.png\", show_shapes=True)"
   ]
  },
  {
   "cell_type": "markdown",
   "metadata": {
    "id": "Mc3xzuA-33WH"
   },
   "source": [
    "As you can see, the first dimension of each layer is not defined (?), indeed this dimension in each layer is variable and depends on the batch size."
   ]
  },
  {
   "cell_type": "markdown",
   "metadata": {
    "id": "6FAjFixuHSA_"
   },
   "source": [
    "Instaed of using *add()* method it is also possibile to define the model using the following syntax"
   ]
  },
  {
   "cell_type": "code",
   "execution_count": null,
   "metadata": {
    "colab": {
     "base_uri": "https://localhost:8080/",
     "height": 665
    },
    "id": "yOhr57M9GPHy",
    "outputId": "7b651aac-0580-4951-db16-f031e0872d31"
   },
   "outputs": [
    {
     "name": "stdout",
     "output_type": "stream",
     "text": [
      "Model: \"sequential_1\"\n",
      "_________________________________________________________________\n",
      "Layer (type)                 Output Shape              Param #   \n",
      "=================================================================\n",
      "dense_3 (Dense)              (None, 16)                16016     \n",
      "_________________________________________________________________\n",
      "dense_4 (Dense)              (None, 16)                272       \n",
      "_________________________________________________________________\n",
      "dense_5 (Dense)              (None, 1)                 17        \n",
      "=================================================================\n",
      "Total params: 16,305\n",
      "Trainable params: 16,305\n",
      "Non-trainable params: 0\n",
      "_________________________________________________________________\n"
     ]
    },
    {
     "data": {
      "image/png": "[encoded data removed]",
      "text/plain": [
       "<IPython.core.display.Image object>"
      ]
     },
     "execution_count": 8,
     "metadata": {
      "tags": []
     },
     "output_type": "execute_result"
    }
   ],
   "source": [
    "model = keras.models.Sequential([\n",
    "    tf.keras.Input(shape=(num_words,)),\n",
    "    keras.layers.Dense(16, activation=\"relu\"),\n",
    "    keras.layers.Dense(16, activation=\"relu\"),\n",
    "    keras.layers.Dense(1, activation=\"sigmoid\")\n",
    "])\n",
    "model.summary()\n",
    "keras.utils.plot_model(model, \"my_imdb_model.png\", show_shapes=True)"
   ]
  },
  {
   "cell_type": "markdown",
   "metadata": {
    "id": "2ySdJmzxaSuz"
   },
   "source": [
    "### Optimize the model:\n",
    "\n",
    "After the model has been created, you must call its compile() method to specify the loss function and the optimizer to use.\n",
    "\n",
    "Since the model performs a binary classification task, we use the bynary cross-entropy as loss. As optimizer we use Adam.\n",
    "\n",
    "Moreover, you can optionally specify a list of additional metrics that should be measured during training. In this case we specify metrics=[\"accuracy\"]."
   ]
  },
  {
   "cell_type": "code",
   "execution_count": null,
   "metadata": {
    "id": "x3bbsY3uaeh5"
   },
   "outputs": [],
   "source": [
    "model.compile(loss=\"binary_crossentropy\",\n",
    "              optimizer=keras.optimizers.Adam(learning_rate=1e-4),\n",
    "              metrics=[\"accuracy\"])"
   ]
  },
  {
   "cell_type": "markdown",
   "metadata": {
    "id": "NB9SV0MpaeTg"
   },
   "source": [
    "Now our model is ready to be trained. Call its fit() method, passing to it the input features (X_train) and the target classes (y_train). Set the number of epochs to 20. \n",
    "In order to validate our model we will also pass the validation data by setting validation_data=(X_valid, y_valid). Keras will compute the loss and the additional metrics (the accuracy in this case) on the validation set at the end of each epoch. If the loss on the training set is much lower than the one on the validation set, your model is probably overfitting the training set. Note: the fit() method will return a History object containing training stats."
   ]
  },
  {
   "cell_type": "code",
   "execution_count": null,
   "metadata": {
    "colab": {
     "base_uri": "https://localhost:8080/"
    },
    "id": "5whx-LU3aoKn",
    "outputId": "f3b45ae2-f6f4-48c7-eee7-3d094cffd866"
   },
   "outputs": [
    {
     "name": "stdout",
     "output_type": "stream",
     "text": [
      "Epoch 1/20\n",
      "782/782 [==============================] - 6s 3ms/step - loss: 0.6691 - accuracy: 0.5917 - val_loss: 0.5086 - val_accuracy: 0.7899\n",
      "Epoch 2/20\n",
      "782/782 [==============================] - 2s 3ms/step - loss: 0.4609 - accuracy: 0.8105 - val_loss: 0.3856 - val_accuracy: 0.8406\n",
      "Epoch 3/20\n",
      "782/782 [==============================] - 2s 3ms/step - loss: 0.3556 - accuracy: 0.8580 - val_loss: 0.3534 - val_accuracy: 0.8515\n",
      "Epoch 4/20\n",
      "782/782 [==============================] - 2s 3ms/step - loss: 0.3298 - accuracy: 0.8647 - val_loss: 0.3407 - val_accuracy: 0.8543\n",
      "Epoch 5/20\n",
      "782/782 [==============================] - 2s 3ms/step - loss: 0.3148 - accuracy: 0.8714 - val_loss: 0.3377 - val_accuracy: 0.8555\n",
      "Epoch 6/20\n",
      "782/782 [==============================] - 2s 3ms/step - loss: 0.3055 - accuracy: 0.8712 - val_loss: 0.3344 - val_accuracy: 0.8565\n",
      "Epoch 7/20\n",
      "782/782 [==============================] - 2s 3ms/step - loss: 0.2989 - accuracy: 0.8771 - val_loss: 0.3344 - val_accuracy: 0.8562\n",
      "Epoch 8/20\n",
      "782/782 [==============================] - 2s 3ms/step - loss: 0.3030 - accuracy: 0.8742 - val_loss: 0.3344 - val_accuracy: 0.8557\n",
      "Epoch 9/20\n",
      "782/782 [==============================] - 2s 3ms/step - loss: 0.2970 - accuracy: 0.8784 - val_loss: 0.3352 - val_accuracy: 0.8549\n",
      "Epoch 10/20\n",
      "782/782 [==============================] - 2s 3ms/step - loss: 0.2928 - accuracy: 0.8781 - val_loss: 0.3355 - val_accuracy: 0.8552\n",
      "Epoch 11/20\n",
      "782/782 [==============================] - 2s 3ms/step - loss: 0.2966 - accuracy: 0.8797 - val_loss: 0.3366 - val_accuracy: 0.8539\n",
      "Epoch 12/20\n",
      "782/782 [==============================] - 2s 3ms/step - loss: 0.2865 - accuracy: 0.8849 - val_loss: 0.3373 - val_accuracy: 0.8549\n",
      "Epoch 13/20\n",
      "782/782 [==============================] - 2s 3ms/step - loss: 0.2954 - accuracy: 0.8803 - val_loss: 0.3393 - val_accuracy: 0.8543\n",
      "Epoch 14/20\n",
      "782/782 [==============================] - 2s 3ms/step - loss: 0.2856 - accuracy: 0.8837 - val_loss: 0.3387 - val_accuracy: 0.8536\n",
      "Epoch 15/20\n",
      "782/782 [==============================] - 2s 3ms/step - loss: 0.2884 - accuracy: 0.8822 - val_loss: 0.3398 - val_accuracy: 0.8538\n",
      "Epoch 16/20\n",
      "782/782 [==============================] - 2s 3ms/step - loss: 0.2878 - accuracy: 0.8806 - val_loss: 0.3405 - val_accuracy: 0.8534\n",
      "Epoch 17/20\n",
      "782/782 [==============================] - 2s 3ms/step - loss: 0.2871 - accuracy: 0.8821 - val_loss: 0.3418 - val_accuracy: 0.8546\n",
      "Epoch 18/20\n",
      "782/782 [==============================] - 2s 3ms/step - loss: 0.2822 - accuracy: 0.8861 - val_loss: 0.3427 - val_accuracy: 0.8542\n",
      "Epoch 19/20\n",
      "782/782 [==============================] - 2s 3ms/step - loss: 0.2847 - accuracy: 0.8863 - val_loss: 0.3433 - val_accuracy: 0.8526\n",
      "Epoch 20/20\n",
      "782/782 [==============================] - 2s 3ms/step - loss: 0.2792 - accuracy: 0.8863 - val_loss: 0.3445 - val_accuracy: 0.8531\n"
     ]
    }
   ],
   "source": [
    "history = model.fit(X_train, y_train, epochs=20,\n",
    "                    validation_data=(X_valid, y_valid))"
   ]
  },
  {
   "cell_type": "markdown",
   "metadata": {
    "id": "EPxiw8iCADr-"
   },
   "source": [
    "Let's plot the loss and the accuracy trends on both training and validation sets. We define the \"plot_learning_acc_and_loss\" function because we will reuse it in the next steps."
   ]
  },
  {
   "cell_type": "code",
   "execution_count": null,
   "metadata": {
    "colab": {
     "base_uri": "https://localhost:8080/",
     "height": 320
    },
    "id": "AJg-F7mUa7st",
    "outputId": "fb0a72a4-dd07-46e2-bf98-0ec9310ac317"
   },
   "outputs": [
    {
     "data": {
      "image/png": "[encoded data removed]",
      "text/plain": [
       "<Figure size 576x360 with 1 Axes>"
      ]
     },
     "metadata": {
      "needs_background": "light",
      "tags": []
     },
     "output_type": "display_data"
    }
   ],
   "source": [
    "def plot_learning_acc_and_loss(history):\n",
    "    pd.DataFrame(history.history).plot(figsize=(8, 5))\n",
    "    plt.grid(True)\n",
    "    plt.show()\n",
    "plot_learning_acc_and_loss(history)"
   ]
  },
  {
   "cell_type": "markdown",
   "metadata": {
    "id": "9O3-sLmxansJ"
   },
   "source": [
    "### [TO COMPLETE] Evaluate the model:\n",
    "\n",
    "Now, our model has been optimized on the training set, and as you can see the performance on the validation set in quite similar (so it does not overfit the training data). Let's now evaluate the performance of our model using the test set."
   ]
  },
  {
   "cell_type": "code",
   "execution_count": null,
   "metadata": {
    "colab": {
     "base_uri": "https://localhost:8080/"
    },
    "id": "q-ZvJEcObdyB",
    "outputId": "820f424e-0041-4c0a-f7e0-d0af92bc0f03"
   },
   "outputs": [
    {
     "name": "stdout",
     "output_type": "stream",
     "text": [
      "391/391 [==============================] - 1s 2ms/step - loss: 0.3227 - accuracy: 0.8662\n"
     ]
    },
    {
     "data": {
      "text/plain": [
       "[0.32265689969062805, 0.8662400245666504]"
      ]
     },
     "execution_count": 13,
     "metadata": {
      "tags": []
     },
     "output_type": "execute_result"
    }
   ],
   "source": [
    "model.evaluate(X_test, y_test)"
   ]
  },
  {
   "cell_type": "markdown",
   "metadata": {
    "id": "KTSxlnwrII-n"
   },
   "source": [
    "[TO COMPLETE] Explain why it is important to use test and validation, and why it is important to evaluate the model on the test set instead of the validation set. Finally, explain which is the usefulness of the validation set. Insert the discussion in this cell.\n",
    "\n",
    "**Answer**\n",
    "\n",
    "Test and validation datasets allow us to choose the best-performing model among many. Regularization of the hyperparameters and performance evaluations of models can't be done on the same test dataset otherwise, the model will suffer from learning bias and it will outperform (to good) also for the chosen test dataset. This implies that for new real-scenario data the model most likely will not perform well as expected. Hence performing regularization and evaluations in two different disjoint data is crucial for maximizing its performances.\n",
    "\n",
    "Since the objective of the model during the training phase is to minimize the cost function (or maximize it for maximization problems) it could raise overfitting problems due to MLE methods of model parameters. Hence the validation set plays a fundamental role in solving overfitting issues through regularization techniques and hyperparameter tuning procedures like penalty methods, drop-out, early stopping, optimization, etc...\n",
    " In this way, we minimize the generalization error and improve model performance.\n",
    "\n",
    "Last but not least a final assessment is done on the test set, it allows us to compare the final models in an unbiased way. In this phase, we can again evaluate performances of all elected models using different metrics (ROC, accuracy, and so on), compare them with each other, and select the best one. Performance is not the only property to focus on but also complexity degree and generalization errors are important too to consider in the final evaluation in this step."
   ]
  },
  {
   "cell_type": "markdown",
   "metadata": {
    "id": "aeGlzKe864Gq"
   },
   "source": [
    "## [TO COMPLETE] Exercise 2.2: Overfiting\n",
    "\n",
    "A common problem that occurs when you train a deep neural network is overfittig. Overfitting occurs when you achieve a good fit of your model on the training data, while it does not generalize well on new, unseen data. In other words, the model learned patterns specific to the training data, which are irrelevant in other data.\n",
    "As we have seen in the previous exercise, our model does not overfit the training data. In this exercise, we try to modify the training parameters in order to have a model that overfits.\n",
    "Overfitting can have many causes and usually is a combination of some of them, for instance: too many parameters/ layers, too few training samples, wrong learning rate (usualy too high), etc..\n",
    "\n",
    "[TO COMPLETE] In the next cell define a new model (similar to the previuos one) that overfits the training data; then plot the trend of the loss in training and validation set."
   ]
  },
  {
   "cell_type": "code",
   "execution_count": null,
   "metadata": {
    "colab": {
     "base_uri": "https://localhost:8080/"
    },
    "id": "T2B2DFEC8f88",
    "outputId": "62648b91-0ad5-4430-92c2-7a3008412626"
   },
   "outputs": [
    {
     "name": "stdout",
     "output_type": "stream",
     "text": [
      "Epoch 1/25\n",
      "782/782 [==============================] - 3s 3ms/step - loss: 0.4482 - accuracy: 0.7874 - val_loss: 0.3436 - val_accuracy: 0.8507\n",
      "Epoch 2/25\n",
      "782/782 [==============================] - 2s 3ms/step - loss: 0.3192 - accuracy: 0.8618 - val_loss: 0.3309 - val_accuracy: 0.8540\n",
      "Epoch 3/25\n",
      "782/782 [==============================] - 2s 3ms/step - loss: 0.2815 - accuracy: 0.8807 - val_loss: 0.3435 - val_accuracy: 0.8484\n",
      "Epoch 4/25\n",
      "782/782 [==============================] - 2s 3ms/step - loss: 0.2620 - accuracy: 0.8865 - val_loss: 0.3470 - val_accuracy: 0.8497\n",
      "Epoch 5/25\n",
      "782/782 [==============================] - 2s 3ms/step - loss: 0.2263 - accuracy: 0.9072 - val_loss: 0.3771 - val_accuracy: 0.8454\n",
      "Epoch 6/25\n",
      "782/782 [==============================] - 2s 3ms/step - loss: 0.1836 - accuracy: 0.9281 - val_loss: 0.4007 - val_accuracy: 0.8387\n",
      "Epoch 7/25\n",
      "782/782 [==============================] - 2s 3ms/step - loss: 0.1403 - accuracy: 0.9487 - val_loss: 0.4832 - val_accuracy: 0.8326\n",
      "Epoch 8/25\n",
      "782/782 [==============================] - 2s 3ms/step - loss: 0.1026 - accuracy: 0.9631 - val_loss: 0.5299 - val_accuracy: 0.8285\n",
      "Epoch 9/25\n",
      "782/782 [==============================] - 2s 3ms/step - loss: 0.0710 - accuracy: 0.9786 - val_loss: 0.6233 - val_accuracy: 0.8206\n",
      "Epoch 10/25\n",
      "782/782 [==============================] - 2s 3ms/step - loss: 0.0479 - accuracy: 0.9861 - val_loss: 0.7682 - val_accuracy: 0.8271\n",
      "Epoch 11/25\n",
      "782/782 [==============================] - 2s 3ms/step - loss: 0.0327 - accuracy: 0.9916 - val_loss: 0.8698 - val_accuracy: 0.8235\n",
      "Epoch 12/25\n",
      "782/782 [==============================] - 2s 3ms/step - loss: 0.0239 - accuracy: 0.9948 - val_loss: 0.9381 - val_accuracy: 0.8207\n",
      "Epoch 13/25\n",
      "782/782 [==============================] - 2s 3ms/step - loss: 0.0197 - accuracy: 0.9946 - val_loss: 1.0714 - val_accuracy: 0.8228\n",
      "Epoch 14/25\n",
      "782/782 [==============================] - 2s 3ms/step - loss: 0.0168 - accuracy: 0.9948 - val_loss: 1.0967 - val_accuracy: 0.8197\n",
      "Epoch 15/25\n",
      "782/782 [==============================] - 2s 3ms/step - loss: 0.0180 - accuracy: 0.9948 - val_loss: 1.1674 - val_accuracy: 0.8246\n",
      "Epoch 16/25\n",
      "782/782 [==============================] - 2s 3ms/step - loss: 0.0201 - accuracy: 0.9943 - val_loss: 1.2318 - val_accuracy: 0.8212\n",
      "Epoch 17/25\n",
      "782/782 [==============================] - 2s 3ms/step - loss: 0.0100 - accuracy: 0.9974 - val_loss: 1.2719 - val_accuracy: 0.8225\n",
      "Epoch 18/25\n",
      "782/782 [==============================] - 2s 3ms/step - loss: 0.0167 - accuracy: 0.9956 - val_loss: 1.4299 - val_accuracy: 0.8178\n",
      "Epoch 19/25\n",
      "782/782 [==============================] - 2s 3ms/step - loss: 0.0115 - accuracy: 0.9963 - val_loss: 1.4038 - val_accuracy: 0.8197\n",
      "Epoch 20/25\n",
      "782/782 [==============================] - 2s 3ms/step - loss: 0.0070 - accuracy: 0.9983 - val_loss: 1.4606 - val_accuracy: 0.8206\n",
      "Epoch 21/25\n",
      "782/782 [==============================] - 2s 3ms/step - loss: 0.0115 - accuracy: 0.9963 - val_loss: 1.3545 - val_accuracy: 0.8140\n",
      "Epoch 22/25\n",
      "782/782 [==============================] - 2s 3ms/step - loss: 0.0164 - accuracy: 0.9950 - val_loss: 1.4770 - val_accuracy: 0.8230\n",
      "Epoch 23/25\n",
      "782/782 [==============================] - 2s 3ms/step - loss: 0.0101 - accuracy: 0.9972 - val_loss: 1.5853 - val_accuracy: 0.8197\n",
      "Epoch 24/25\n",
      "782/782 [==============================] - 2s 3ms/step - loss: 0.0044 - accuracy: 0.9990 - val_loss: 1.6078 - val_accuracy: 0.8186\n",
      "Epoch 25/25\n",
      "782/782 [==============================] - 2s 3ms/step - loss: 0.0053 - accuracy: 0.9988 - val_loss: 1.6427 - val_accuracy: 0.8159\n",
      "Model Evaluation\n",
      "391/391 [==============================] - 1s 2ms/step - loss: 1.4970 - accuracy: 0.8261\n"
     ]
    },
    {
     "data": {
      "text/plain": [
       "[1.4969522953033447, 0.8260800242424011]"
      ]
     },
     "execution_count": 60,
     "metadata": {
      "tags": []
     },
     "output_type": "execute_result"
    }
   ],
   "source": [
    "model = keras.models.Sequential()\n",
    "#[TO COMPLETE] modify the previuos model in order to obtain a new mdel that overfit the training data\n",
    "model.add(tf.keras.Input(shape=(num_words,)))\n",
    "model.add(keras.layers.Dense(30, activation=\"relu\"))\n",
    "model.add(keras.layers.Dense(30, activation=\"relu\"))\n",
    "model.add(keras.layers.Dense(1, activation=\"sigmoid\"))\n",
    "\n",
    "model.compile(loss=\"binary_crossentropy\",\n",
    "              optimizer=keras.optimizers.Adam(learning_rate=1e-3),#[TO COMPLETE] learning rate\n",
    "              metrics=[\"accuracy\"])\n",
    "\n",
    "history = model.fit(X_train, y_train, epochs=25,#[TO COMPLETE] epochs\n",
    "                    validation_data=(X_valid, y_valid))\n",
    "\n",
    "print(\"Model Evaluation\")\n",
    "model.evaluate(X_test, y_test)"
   ]
  },
  {
   "cell_type": "markdown",
   "metadata": {
    "id": "MS0fujEqh_m3"
   },
   "source": [
    "Define the plot_learning_curves function that plots inly the losses (not the accuracy)."
   ]
  },
  {
   "cell_type": "code",
   "execution_count": null,
   "metadata": {
    "colab": {
     "base_uri": "https://localhost:8080/",
     "height": 336
    },
    "id": "q5EsklC0DZYH",
    "outputId": "fa7c764f-c2cd-46dd-9d1c-73e5c69ce697"
   },
   "outputs": [
    {
     "data": {
      "image/png": "[encoded data removed]",
      "text/plain": [
       "<Figure size 576x360 with 1 Axes>"
      ]
     },
     "metadata": {
      "needs_background": "light",
      "tags": []
     },
     "output_type": "display_data"
    }
   ],
   "source": [
    "def plot_learning_curves(history):\n",
    "    plt.figure(figsize=(8, 5))\n",
    "    plt.plot(history.epoch,history.history['loss'], label='train loss')\n",
    "    plt.plot(history.epoch,history.history['val_loss'], label='valid loss')\n",
    "    plt.legend()\n",
    "    plt.title('loss')\n",
    "    plt.grid(True)\n",
    "    plt.show()\n",
    "plot_learning_curves(history)"
   ]
  },
  {
   "cell_type": "markdown",
   "metadata": {
    "id": "OW4Kf4fgDfOs"
   },
   "source": [
    "### [TO COMPLETE] L1 norm\n",
    "\n",
    "One possible way to solve the overitting issue is by using regularization methods. The two most common regularization methods in Deep Learning are the L1-norm regularization and the L2-norm regularization. Both These techniques are based on limiting the capacity of models, by adding a parameter norm penalty to the objective function $\\mathcal{J}$:\n",
    "$$\n",
    "\\hat{\\mathcal{J}}(\\theta,\\mathbf{X},\\mathbf{y}) = \\mathcal{J}(\\theta,\\mathbf{X},\\mathbf{y}) + \\alpha \\Omega(\\theta)\n",
    "$$\n",
    "where $\\alpha$ is a hyperparameter that weighs the relative contribution of the norm penalty $\\Omega$.\n",
    "Lets start by considering the L1-norm regularization where the regularization term is defined as:\n",
    "$$\n",
    " \\Omega(\\theta)=||\\mathbf{W}||_1=\\sum_i |\\mathbf{w}|\n",
    "$$\n",
    "Let's find the values for the $\\alpha$ parameters that allow to remove the overfitting effect."
   ]
  },
  {
   "cell_type": "code",
   "execution_count": null,
   "metadata": {
    "colab": {
     "base_uri": "https://localhost:8080/",
     "height": 1000
    },
    "id": "QzD8520dDgw3",
    "outputId": "fb869c17-b2b1-4c61-ce30-0c8ee4e965ac"
   },
   "outputs": [
    {
     "name": "stdout",
     "output_type": "stream",
     "text": [
      "Epoch 1/25\n",
      "782/782 [==============================] - 3s 3ms/step - loss: 4.9892 - accuracy: 0.7824 - val_loss: 0.4897 - val_accuracy: 0.8519\n",
      "Epoch 2/25\n",
      "782/782 [==============================] - 2s 3ms/step - loss: 0.4592 - accuracy: 0.8549 - val_loss: 0.4264 - val_accuracy: 0.8590\n",
      "Epoch 3/25\n",
      "782/782 [==============================] - 2s 3ms/step - loss: 0.3990 - accuracy: 0.8726 - val_loss: 0.4156 - val_accuracy: 0.8539\n",
      "Epoch 4/25\n",
      "782/782 [==============================] - 3s 3ms/step - loss: 0.3841 - accuracy: 0.8691 - val_loss: 0.4060 - val_accuracy: 0.8548\n",
      "Epoch 5/25\n",
      "782/782 [==============================] - 2s 3ms/step - loss: 0.3726 - accuracy: 0.8766 - val_loss: 0.3933 - val_accuracy: 0.8567\n",
      "Epoch 6/25\n",
      "782/782 [==============================] - 2s 3ms/step - loss: 0.3621 - accuracy: 0.8749 - val_loss: 0.3864 - val_accuracy: 0.8570\n",
      "Epoch 7/25\n",
      "782/782 [==============================] - 2s 3ms/step - loss: 0.3533 - accuracy: 0.8770 - val_loss: 0.3850 - val_accuracy: 0.8559\n",
      "Epoch 8/25\n",
      "782/782 [==============================] - 2s 3ms/step - loss: 0.3558 - accuracy: 0.8736 - val_loss: 0.3790 - val_accuracy: 0.8563\n",
      "Epoch 9/25\n",
      "782/782 [==============================] - 2s 3ms/step - loss: 0.3461 - accuracy: 0.8769 - val_loss: 0.3769 - val_accuracy: 0.8564\n",
      "Epoch 10/25\n",
      "782/782 [==============================] - 2s 3ms/step - loss: 0.3426 - accuracy: 0.8753 - val_loss: 0.3763 - val_accuracy: 0.8567\n",
      "Epoch 11/25\n",
      "782/782 [==============================] - 2s 3ms/step - loss: 0.3439 - accuracy: 0.8763 - val_loss: 0.3751 - val_accuracy: 0.8559\n",
      "Epoch 12/25\n",
      "782/782 [==============================] - 2s 3ms/step - loss: 0.3333 - accuracy: 0.8818 - val_loss: 0.3760 - val_accuracy: 0.8549\n",
      "Epoch 13/25\n",
      "782/782 [==============================] - 2s 3ms/step - loss: 0.3415 - accuracy: 0.8744 - val_loss: 0.3726 - val_accuracy: 0.8553\n",
      "Epoch 14/25\n",
      "782/782 [==============================] - 2s 3ms/step - loss: 0.3321 - accuracy: 0.8796 - val_loss: 0.3713 - val_accuracy: 0.8538\n",
      "Epoch 15/25\n",
      "782/782 [==============================] - 2s 3ms/step - loss: 0.3346 - accuracy: 0.8789 - val_loss: 0.3683 - val_accuracy: 0.8557\n",
      "Epoch 16/25\n",
      "782/782 [==============================] - 2s 3ms/step - loss: 0.3329 - accuracy: 0.8747 - val_loss: 0.3701 - val_accuracy: 0.8552\n",
      "Epoch 17/25\n",
      "782/782 [==============================] - 3s 3ms/step - loss: 0.3317 - accuracy: 0.8771 - val_loss: 0.3696 - val_accuracy: 0.8546\n",
      "Epoch 18/25\n",
      "782/782 [==============================] - 2s 3ms/step - loss: 0.3263 - accuracy: 0.8789 - val_loss: 0.3658 - val_accuracy: 0.8558\n",
      "Epoch 19/25\n",
      "782/782 [==============================] - 2s 3ms/step - loss: 0.3285 - accuracy: 0.8822 - val_loss: 0.3628 - val_accuracy: 0.8563\n",
      "Epoch 20/25\n",
      "782/782 [==============================] - 2s 3ms/step - loss: 0.3185 - accuracy: 0.8849 - val_loss: 0.3620 - val_accuracy: 0.8562\n",
      "Epoch 21/25\n",
      "782/782 [==============================] - 2s 3ms/step - loss: 0.3212 - accuracy: 0.8831 - val_loss: 0.3648 - val_accuracy: 0.8569\n",
      "Epoch 22/25\n",
      "782/782 [==============================] - 2s 3ms/step - loss: 0.3148 - accuracy: 0.8825 - val_loss: 0.3612 - val_accuracy: 0.8584\n",
      "Epoch 23/25\n",
      "782/782 [==============================] - 2s 3ms/step - loss: 0.3076 - accuracy: 0.8900 - val_loss: 0.3664 - val_accuracy: 0.8560\n",
      "Epoch 24/25\n",
      "782/782 [==============================] - 2s 3ms/step - loss: 0.3068 - accuracy: 0.8872 - val_loss: 0.3615 - val_accuracy: 0.8569\n",
      "Epoch 25/25\n",
      "782/782 [==============================] - 2s 3ms/step - loss: 0.3040 - accuracy: 0.8882 - val_loss: 0.3656 - val_accuracy: 0.8562\n",
      "Model Evaluation\n",
      "391/391 [==============================] - 1s 2ms/step - loss: 0.3476 - accuracy: 0.8654\n"
     ]
    },
    {
     "data": {
      "image/png": "[encoded data removed]",
      "text/plain": [
       "<Figure size 576x360 with 1 Axes>"
      ]
     },
     "metadata": {
      "needs_background": "light",
      "tags": []
     },
     "output_type": "display_data"
    }
   ],
   "source": [
    "#In Keras is neccesary to add the regularizer by using the attribute kernel_regularizer\n",
    "#to each layer whose weights will be considered in the Omega function.\n",
    "#is it also possibile to consider the bias by using the attribute bias_regularizer \n",
    "#tf.keras.regularizers.l1(alpha) perfroms the L1-norm regularization\n",
    "\n",
    "#[TO COMPLETE] copy the model that you previously defined that overfits the \n",
    "#trainnig data, and add the L1-norm regularization. Use a proper value for the\n",
    "#alpha hyper-parameter, that prevents the model from overfitting. The results  \n",
    "#reached by the model in terms of loss and accuracy (in all data sets) should be\n",
    "#comparable with the ones obtained by the initial model defined in Exercise 2.1 \n",
    "\n",
    "#In general, a layer that exploits L1-norm regularization is defined as follows:\n",
    "\n",
    "#model.add(keras.layers.Dense(units=[TO COMPLETE], activation=[TO COMPLETE], kernel_regularizer=tf.keras.regularizers.l1([TO COMPLETE]))) \n",
    "\n",
    "model = keras.models.Sequential()\n",
    "#[TO COMPLETE]\n",
    "model.add(tf.keras.Input(shape=(num_words,)))\n",
    "model.add(keras.layers.Dense(30, activation=\"relu\"))\n",
    "model.add(keras.layers.Dense(30, activation=\"relu\", kernel_regularizer=tf.keras.regularizers.l1(l1=0.08)))\n",
    "model.add(keras.layers.Dense(1, activation=\"sigmoid\"))\n",
    "\n",
    "model.compile(loss=\"binary_crossentropy\",\n",
    "              optimizer=keras.optimizers.Adam(learning_rate=1e-3),#[TO COMPLETE] learning rate\n",
    "              metrics=[\"accuracy\"])\n",
    "\n",
    "history = model.fit(X_train, y_train, epochs=25,#[TO COMPLETE] epochs\n",
    "                    validation_data=(X_valid, y_valid))\n",
    "\n",
    "print(\"Model Evaluation\")\n",
    "model.evaluate(X_test, y_test)\n",
    "plot_learning_curves(history)"
   ]
  },
  {
   "cell_type": "markdown",
   "metadata": {
    "id": "CgnCGYUvDqbC"
   },
   "source": [
    "### [TO COMPLETE] L2-norm\n",
    "\n",
    "L2-norm regularization is also known as weight decay. This strategy drives the weights closer to the origin by adding the regularization term omega which is defined as:\n",
    "$$\n",
    " \\Omega(\\theta)=\\frac{1}{2}||\\mathbf{W}||_2^2\n",
    "$$\n",
    "\n",
    "Let's find the values for the $\\alpha$ parameters that allow removing remove the overfitting effect with L2-norm."
   ]
  },
  {
   "cell_type": "code",
   "execution_count": null,
   "metadata": {
    "colab": {
     "base_uri": "https://localhost:8080/",
     "height": 1000
    },
    "id": "qqNhu350DtJo",
    "outputId": "7dab3fd4-4320-4c7d-e341-4cd747cb5563"
   },
   "outputs": [
    {
     "name": "stdout",
     "output_type": "stream",
     "text": [
      "Epoch 1/25\n",
      "782/782 [==============================] - 3s 3ms/step - loss: 1.6500 - accuracy: 0.7799 - val_loss: 0.4759 - val_accuracy: 0.8490\n",
      "Epoch 2/25\n",
      "782/782 [==============================] - 3s 3ms/step - loss: 0.4501 - accuracy: 0.8582 - val_loss: 0.4329 - val_accuracy: 0.8562\n",
      "Epoch 3/25\n",
      "782/782 [==============================] - 3s 3ms/step - loss: 0.4069 - accuracy: 0.8724 - val_loss: 0.4247 - val_accuracy: 0.8498\n",
      "Epoch 4/25\n",
      "782/782 [==============================] - 2s 3ms/step - loss: 0.3935 - accuracy: 0.8673 - val_loss: 0.4169 - val_accuracy: 0.8482\n",
      "Epoch 5/25\n",
      "782/782 [==============================] - 2s 3ms/step - loss: 0.3821 - accuracy: 0.8733 - val_loss: 0.4013 - val_accuracy: 0.8570\n",
      "Epoch 6/25\n",
      "782/782 [==============================] - 3s 3ms/step - loss: 0.3728 - accuracy: 0.8742 - val_loss: 0.3925 - val_accuracy: 0.8579\n",
      "Epoch 7/25\n",
      "782/782 [==============================] - 2s 3ms/step - loss: 0.3634 - accuracy: 0.8768 - val_loss: 0.3929 - val_accuracy: 0.8554\n",
      "Epoch 8/25\n",
      "782/782 [==============================] - 2s 3ms/step - loss: 0.3662 - accuracy: 0.8696 - val_loss: 0.3855 - val_accuracy: 0.8574\n",
      "Epoch 9/25\n",
      "782/782 [==============================] - 3s 3ms/step - loss: 0.3561 - accuracy: 0.8766 - val_loss: 0.3833 - val_accuracy: 0.8570\n",
      "Epoch 10/25\n",
      "782/782 [==============================] - 2s 3ms/step - loss: 0.3532 - accuracy: 0.8751 - val_loss: 0.3846 - val_accuracy: 0.8574\n",
      "Epoch 11/25\n",
      "782/782 [==============================] - 3s 3ms/step - loss: 0.3536 - accuracy: 0.8738 - val_loss: 0.3800 - val_accuracy: 0.8568\n",
      "Epoch 12/25\n",
      "782/782 [==============================] - 2s 3ms/step - loss: 0.3436 - accuracy: 0.8791 - val_loss: 0.3846 - val_accuracy: 0.8537\n",
      "Epoch 13/25\n",
      "782/782 [==============================] - 3s 3ms/step - loss: 0.3504 - accuracy: 0.8728 - val_loss: 0.3786 - val_accuracy: 0.8577\n",
      "Epoch 14/25\n",
      "782/782 [==============================] - 3s 3ms/step - loss: 0.3416 - accuracy: 0.8794 - val_loss: 0.3767 - val_accuracy: 0.8553\n",
      "Epoch 15/25\n",
      "782/782 [==============================] - 2s 3ms/step - loss: 0.3436 - accuracy: 0.8757 - val_loss: 0.3741 - val_accuracy: 0.8577\n",
      "Epoch 16/25\n",
      "782/782 [==============================] - 3s 3ms/step - loss: 0.3410 - accuracy: 0.8747 - val_loss: 0.3736 - val_accuracy: 0.8558\n",
      "Epoch 17/25\n",
      "782/782 [==============================] - 3s 3ms/step - loss: 0.3407 - accuracy: 0.8762 - val_loss: 0.3755 - val_accuracy: 0.8554\n",
      "Epoch 18/25\n",
      "782/782 [==============================] - 2s 3ms/step - loss: 0.3378 - accuracy: 0.8763 - val_loss: 0.3724 - val_accuracy: 0.8551\n",
      "Epoch 19/25\n",
      "782/782 [==============================] - 3s 3ms/step - loss: 0.3400 - accuracy: 0.8767 - val_loss: 0.3692 - val_accuracy: 0.8563\n",
      "Epoch 20/25\n",
      "782/782 [==============================] - 2s 3ms/step - loss: 0.3334 - accuracy: 0.8779 - val_loss: 0.3675 - val_accuracy: 0.8559\n",
      "Epoch 21/25\n",
      "782/782 [==============================] - 2s 3ms/step - loss: 0.3357 - accuracy: 0.8778 - val_loss: 0.3683 - val_accuracy: 0.8560\n",
      "Epoch 22/25\n",
      "782/782 [==============================] - 2s 3ms/step - loss: 0.3330 - accuracy: 0.8767 - val_loss: 0.3670 - val_accuracy: 0.8560\n",
      "Epoch 23/25\n",
      "782/782 [==============================] - 3s 3ms/step - loss: 0.3269 - accuracy: 0.8811 - val_loss: 0.3697 - val_accuracy: 0.8554\n",
      "Epoch 24/25\n",
      "782/782 [==============================] - 2s 3ms/step - loss: 0.3262 - accuracy: 0.8774 - val_loss: 0.3657 - val_accuracy: 0.8555\n",
      "Epoch 25/25\n",
      "782/782 [==============================] - 2s 3ms/step - loss: 0.3237 - accuracy: 0.8787 - val_loss: 0.3667 - val_accuracy: 0.8559\n",
      "Model Evaluation\n",
      "391/391 [==============================] - 1s 2ms/step - loss: 0.3478 - accuracy: 0.8661\n"
     ]
    },
    {
     "data": {
      "image/png": "[encoded data removed]",
      "text/plain": [
       "<Figure size 576x360 with 1 Axes>"
      ]
     },
     "metadata": {
      "needs_background": "light",
      "tags": []
     },
     "output_type": "display_data"
    }
   ],
   "source": [
    "#[TO COMPLETE] insert the model that you previously defined that overfit the \n",
    "#trainig data, and add the L2-norm regularization. Use proper values for the\n",
    "#alpha hyper-parameters, that prevents the model from overfitting. The results  \n",
    "#reached by the model in terms of loss and accuracy (in all data sets) should be\n",
    "#comparable with the ones obtained by the initial model defined in Exercise 2.1\n",
    "\n",
    "#In general, a layer that exploits L2-norm regularization is defined as follow:\n",
    "\n",
    "#model.add(keras.layers.Dense(units=[TO COMPLETE], activation=[TO COMPLETE],kernel_regularizer=tf.keras.regularizers.l2([TO COMPLETE]))) \n",
    "\n",
    "model = keras.models.Sequential()\n",
    "#[TO COMPLETE]\n",
    "model.add(tf.keras.Input(shape=(num_words,)))\n",
    "model.add(keras.layers.Dense(30, activation=\"relu\"))\n",
    "model.add(keras.layers.Dense(30, activation=\"relu\", kernel_regularizer=tf.keras.regularizers.l2(l2=0.1)))\n",
    "model.add(keras.layers.Dense(1, activation=\"sigmoid\", kernel_regularizer=tf.keras.regularizers.l2(l2=0.1)))\n",
    "\n",
    "model.compile(loss=\"binary_crossentropy\",\n",
    "              optimizer=keras.optimizers.Adam(learning_rate=1e-3),#[TO COMPLETE] learning rate\n",
    "              metrics=[\"accuracy\"])\n",
    "\n",
    "history = model.fit(X_train, y_train, epochs=25,#[TO COMPLETE] epochs\n",
    "                    validation_data=(X_valid, y_valid))\n",
    "\n",
    "print(\"Model Evaluation\")\n",
    "model.evaluate(X_test, y_test)\n",
    "plot_learning_curves(history)"
   ]
  },
  {
   "cell_type": "markdown",
   "metadata": {
    "id": "xvyKPb4DD25G"
   },
   "source": [
    "###[TO COMPLETE] Early stopping\n",
    "\n",
    "Early Stopping is a form of regularization used to avoid overfitting. It is designed to monitor the generalization error of one model and stop training when generalization error begins to degrade. In order to evaluate the generalization error, early stopping requires that a validation dataset is evaluated during training. Then, when the validation error does not improve for a specific number of epochs (patience hyper-parameter), it stops the training phase."
   ]
  },
  {
   "cell_type": "code",
   "execution_count": null,
   "metadata": {
    "colab": {
     "base_uri": "https://localhost:8080/",
     "height": 510
    },
    "id": "MqNOOZ11D7cq",
    "outputId": "0c1162d3-c08f-4026-b5b2-99e8b5a28d01"
   },
   "outputs": [
    {
     "name": "stdout",
     "output_type": "stream",
     "text": [
      "Epoch 1/25\n",
      "782/782 [==============================] - 3s 4ms/step - loss: 0.4513 - accuracy: 0.7802 - val_loss: 0.3431 - val_accuracy: 0.8477\n",
      "Epoch 2/25\n",
      "782/782 [==============================] - 2s 3ms/step - loss: 0.3131 - accuracy: 0.8651 - val_loss: 0.3309 - val_accuracy: 0.8531\n",
      "Epoch 3/25\n",
      "782/782 [==============================] - 2s 3ms/step - loss: 0.2746 - accuracy: 0.8830 - val_loss: 0.3432 - val_accuracy: 0.8491\n",
      "Epoch 4/25\n",
      "782/782 [==============================] - 2s 3ms/step - loss: 0.2458 - accuracy: 0.8984 - val_loss: 0.3497 - val_accuracy: 0.8491\n",
      "Model Evaluation\n",
      "391/391 [==============================] - 1s 2ms/step - loss: 0.3164 - accuracy: 0.8632\n"
     ]
    },
    {
     "data": {
      "image/png": "[encoded data removed]",
      "text/plain": [
       "<Figure size 576x360 with 1 Axes>"
      ]
     },
     "metadata": {
      "needs_background": "light",
      "tags": []
     },
     "output_type": "display_data"
    }
   ],
   "source": [
    "#[TO COMPLETE] insert the model that you previously defined that overfit the \n",
    "#trainnig data\n",
    "model = keras.models.Sequential()\n",
    "model.add(tf.keras.Input(shape=(num_words,)))\n",
    "model.add(keras.layers.Dense(30, activation=\"relu\"))\n",
    "model.add(keras.layers.Dense(30, activation=\"relu\"))\n",
    "model.add(keras.layers.Dense(1, activation=\"sigmoid\"))\n",
    "\n",
    "model.compile(loss=\"binary_crossentropy\",\n",
    "              optimizer=keras.optimizers.Adam(learning_rate=1e-3),#[TO COMPLETE] learning rate\n",
    "\n",
    "              metrics=[\"accuracy\"])\n",
    "\n",
    "#Let's define a log dir in order to save the checkpoint file\n",
    "logdir = os.path.join(os.curdir, \"my_logs\", \"run_{}\".format(time.time()))\n",
    "\n",
    "#In Keras the Eraly stopping is manage by using the callbacks argument.\n",
    "callbacks = [\n",
    "    keras.callbacks.TensorBoard(logdir),\n",
    "    keras.callbacks.EarlyStopping(patience=2, mode='min'),#[TO COMPLETE] play with patience and find the value that prevents the model from overfitting.\n",
    "\n",
    "\n",
    "    #Saving the checkpoints file allows to load the \"best\" model when the Early \n",
    "    #stopping detect that the generalization error degrade (after 'patience' epochs)\n",
    "    keras.callbacks.ModelCheckpoint(\"my_mnist_model.h5\", save_best_only=True),\n",
    "]\n",
    "\n",
    "history = model.fit(X_train, y_train, epochs=25,#[TO COMPLETE] epochs\n",
    "                    validation_data=(X_valid, y_valid),\n",
    "                    callbacks=callbacks)\n",
    "\n",
    "print(\"Model Evaluation\")\n",
    "#The early stopping stopped training after few epochs without progress, so your\n",
    "#model may already have started to overfit the training set. Since the \n",
    "#ModelCheckpoint callback only saved the best models (on the validation set) the\n",
    "#last saved model is the best on the validation set.\n",
    "model = keras.models.load_model(\"my_mnist_model.h5\")\n",
    "model.evaluate(X_test, y_test)\n",
    "plot_learning_curves(history)"
   ]
  },
  {
   "cell_type": "markdown",
   "metadata": {
    "id": "DCV8pwVzl9GK"
   },
   "source": [
    "## Exercise 2.3: Model Selection\n",
    "\n",
    "Hyperparameters are the parameters of the learning method itself which we have to specify a priori, i.e., before model fitting. In contrast, model parameters are parameters which arise as a result of the fit (the network weights). The aim of model selection is selecting the best hyperparameters for our deep network. Finding the right hyperparameters for a model can be crucial for the model performance on given data. For istance lets consider our model trained by using different values for the learning rate: "
   ]
  },
  {
   "cell_type": "code",
   "execution_count": null,
   "metadata": {
    "id": "Fw8Hs-AEmLKh"
   },
   "outputs": [],
   "source": [
    "learning_rates = [1e-4, 1e-2, 1e-1]"
   ]
  },
  {
   "cell_type": "code",
   "execution_count": null,
   "metadata": {
    "colab": {
     "base_uri": "https://localhost:8080/"
    },
    "id": "mym4GOgUmWqD",
    "outputId": "0a68b5c2-fc6a-4848-b46a-0df2b5a146c2"
   },
   "outputs": [
    {
     "name": "stdout",
     "output_type": "stream",
     "text": [
      "Epoch 1/10\n",
      "782/782 [==============================] - 3s 3ms/step - loss: 0.6646 - accuracy: 0.6005 - val_loss: 0.4871 - val_accuracy: 0.8010\n",
      "Epoch 2/10\n",
      "782/782 [==============================] - 2s 3ms/step - loss: 0.4403 - accuracy: 0.8221 - val_loss: 0.3757 - val_accuracy: 0.8423\n",
      "Epoch 3/10\n",
      "782/782 [==============================] - 2s 3ms/step - loss: 0.3462 - accuracy: 0.8573 - val_loss: 0.3509 - val_accuracy: 0.8502\n",
      "Epoch 4/10\n",
      "782/782 [==============================] - 2s 3ms/step - loss: 0.3253 - accuracy: 0.8660 - val_loss: 0.3404 - val_accuracy: 0.8553\n",
      "Epoch 5/10\n",
      "782/782 [==============================] - 2s 3ms/step - loss: 0.3122 - accuracy: 0.8716 - val_loss: 0.3382 - val_accuracy: 0.8550\n",
      "Epoch 6/10\n",
      "782/782 [==============================] - 2s 3ms/step - loss: 0.3035 - accuracy: 0.8729 - val_loss: 0.3357 - val_accuracy: 0.8569\n",
      "Epoch 7/10\n",
      "782/782 [==============================] - 2s 3ms/step - loss: 0.2972 - accuracy: 0.8777 - val_loss: 0.3359 - val_accuracy: 0.8565\n",
      "Epoch 8/10\n",
      "782/782 [==============================] - 2s 3ms/step - loss: 0.3017 - accuracy: 0.8752 - val_loss: 0.3362 - val_accuracy: 0.8559\n",
      "evaluation on test set\n",
      "391/391 [==============================] - 1s 2ms/step - loss: 0.3166 - accuracy: 0.8660\n",
      "Epoch 1/10\n",
      "782/782 [==============================] - 3s 3ms/step - loss: 0.4114 - accuracy: 0.8101 - val_loss: 0.3431 - val_accuracy: 0.8403\n",
      "Epoch 2/10\n",
      "782/782 [==============================] - 2s 3ms/step - loss: 0.3194 - accuracy: 0.8598 - val_loss: 0.3402 - val_accuracy: 0.8508\n",
      "Epoch 3/10\n",
      "782/782 [==============================] - 2s 3ms/step - loss: 0.2827 - accuracy: 0.8807 - val_loss: 0.3483 - val_accuracy: 0.8455\n",
      "Epoch 4/10\n",
      "782/782 [==============================] - 2s 3ms/step - loss: 0.2704 - accuracy: 0.8815 - val_loss: 0.3547 - val_accuracy: 0.8476\n",
      "evaluation on test set\n",
      "391/391 [==============================] - 1s 2ms/step - loss: 0.3334 - accuracy: 0.8618\n",
      "Epoch 1/10\n",
      "782/782 [==============================] - 3s 3ms/step - loss: 0.5487 - accuracy: 0.7584 - val_loss: 0.4174 - val_accuracy: 0.8183\n",
      "Epoch 2/10\n",
      "782/782 [==============================] - 2s 3ms/step - loss: 0.3732 - accuracy: 0.8446 - val_loss: 0.3555 - val_accuracy: 0.8465\n",
      "Epoch 3/10\n",
      "782/782 [==============================] - 2s 3ms/step - loss: 0.3525 - accuracy: 0.8605 - val_loss: 0.4328 - val_accuracy: 0.8334\n",
      "Epoch 4/10\n",
      "782/782 [==============================] - 2s 3ms/step - loss: 0.3986 - accuracy: 0.8384 - val_loss: 0.4211 - val_accuracy: 0.8246\n",
      "evaluation on test set\n",
      "391/391 [==============================] - 1s 2ms/step - loss: 0.3955 - accuracy: 0.8385\n"
     ]
    }
   ],
   "source": [
    "histories = []\n",
    "for learning_rate in learning_rates:\n",
    "    model = keras.models.Sequential([\n",
    "                                    tf.keras.Input(shape=(num_words,)),\n",
    "                                    keras.layers.Dense(16, activation=\"relu\"),\n",
    "                                    keras.layers.Dense(16, activation=\"relu\"),\n",
    "                                    keras.layers.Dense(1, activation=\"sigmoid\")\n",
    "                                     ])\n",
    "    model.compile(loss=\"binary_crossentropy\",\n",
    "              optimizer=keras.optimizers.Adam(learning_rate=learning_rate),\n",
    "              metrics=[\"accuracy\"])\n",
    "              \n",
    "    callbacks = [keras.callbacks.EarlyStopping(patience=2)]\n",
    "\n",
    "    history = model.fit(X_train, y_train,\n",
    "                        validation_data=(X_valid, y_valid), epochs=10,\n",
    "                        callbacks=callbacks)\n",
    "    histories.append(history)\n",
    "    print(\"evaluation on test set\")\n",
    "    model.evaluate(X_test, y_test)"
   ]
  },
  {
   "cell_type": "markdown",
   "metadata": {
    "id": "RzTSjfwptkHJ"
   },
   "source": [
    "Let's plot the results"
   ]
  },
  {
   "cell_type": "code",
   "execution_count": null,
   "metadata": {
    "colab": {
     "base_uri": "https://localhost:8080/",
     "height": 979
    },
    "id": "cIlN1vlioIYh",
    "outputId": "f29615cf-da27-4022-9de1-0be5bf714eb7"
   },
   "outputs": [
    {
     "name": "stdout",
     "output_type": "stream",
     "text": [
      "Learning rate: 0.0001\n"
     ]
    },
    {
     "data": {
      "image/png": "[encoded data removed]",
      "text/plain": [
       "<Figure size 576x360 with 1 Axes>"
      ]
     },
     "metadata": {
      "needs_background": "light",
      "tags": []
     },
     "output_type": "display_data"
    },
    {
     "name": "stdout",
     "output_type": "stream",
     "text": [
      "Learning rate: 0.01\n"
     ]
    },
    {
     "data": {
      "image/png": "[encoded data removed]",
      "text/plain": [
       "<Figure size 576x360 with 1 Axes>"
      ]
     },
     "metadata": {
      "needs_background": "light",
      "tags": []
     },
     "output_type": "display_data"
    },
    {
     "name": "stdout",
     "output_type": "stream",
     "text": [
      "Learning rate: 0.1\n"
     ]
    },
    {
     "data": {
      "image/png": "[encoded data removed]",
      "text/plain": [
       "<Figure size 576x360 with 1 Axes>"
      ]
     },
     "metadata": {
      "needs_background": "light",
      "tags": []
     },
     "output_type": "display_data"
    }
   ],
   "source": [
    "for learning_rate, history in zip(learning_rates, histories):\n",
    "    print(\"Learning rate:\", learning_rate)\n",
    "    plot_learning_acc_and_loss(history)"
   ]
  },
  {
   "cell_type": "markdown",
   "metadata": {
    "id": "_JntujSWq3e5"
   },
   "source": [
    "### [TO COMPLETE] GRID Search:\n",
    "\n",
    "Since a deep net has many hyperparameters, in order to find the best ones, we have to consider all the possible combinations of all of the possible values. One common method to perform this complex task is Grid-Search.\n",
    "Given a set of values for each hyper-parameter, Grid-Search will build a model on each parameter combination possible. It iterates through every parameter combination and stores a model for each combination. Finally, the model that obtained the best result on the validation set will be select.\n",
    "\n",
    "In order to perfrom Grid-Search we will use the GridSearchCV method from scikit-learn."
   ]
  },
  {
   "cell_type": "markdown",
   "metadata": {
    "id": "CPz629YSrDhN"
   },
   "source": [
    "Let's Create a build_model() function that takes two arguments, n_neurons, learning_rate, and builds, compiles and returns a model with the given number of of neurons and the given learning rate.\n",
    "In order to limit the time requirements of the process we will consider only these two hyper-paramters.\n",
    "\n",
    "[TO COMPLETE] in the following code cell define the build_model function."
   ]
  },
  {
   "cell_type": "code",
   "execution_count": null,
   "metadata": {
    "id": "oGSKWTTtqxZ4"
   },
   "outputs": [],
   "source": [
    "def build_model(n_units=30, learning_rate=1e-3):\n",
    "    # The function has to build a model similar to the ones we used in previuous execises:\n",
    "    #- a input layer \n",
    "    #- one or two Dense layers composed of n_units and that exploit Relu activation function \n",
    "    #- the output layer that uses the sigmoid activation function\n",
    "    # Then, the model has to be compiled.\n",
    "    model = keras.models.Sequential([#[TO COMPLETE]\n",
    "                  tf.keras.Input(shape=(num_words,)),\n",
    "                  keras.layers.Dense(n_units, activation=\"relu\"),\n",
    "                  keras.layers.Dense(n_units, activation=\"relu\"),\n",
    "                  keras.layers.Dense(1, activation=\"sigmoid\")\n",
    "                                     ])\n",
    "    \n",
    "    # [TO COMPLETE] Then, the model has to be compiled.\n",
    "    model.compile(loss=\"binary_crossentropy\",\n",
    "              optimizer=keras.optimizers.Adam(learning_rate=learning_rate),#[TO COMPLETE] learning rate\n",
    "              metrics=[\"accuracy\"])\n",
    "    return model\n",
    "\n",
    "    \n",
    "#Create a keras.wrappers.scikit_learn.KerasRegressor and pass the build_model \n",
    "#function to the constructor. This gives you a Scikit-Learn compatible predictor\n",
    "keras_reg = keras.wrappers.scikit_learn.KerasRegressor(build_model)"
   ]
  },
  {
   "cell_type": "markdown",
   "metadata": {
    "id": "PS6W3A2LxDg5"
   },
   "source": [
    "Let's define the lists of hyper-parameters' values. Also in this case, we use a very limited size lists, but in a real-world scenario a reasonable amount of possible values should be considered (try to add some values and check how much the time required to perform the Grid-Search increases)"
   ]
  },
  {
   "cell_type": "code",
   "execution_count": null,
   "metadata": {
    "id": "y-uldCW3ru24"
   },
   "outputs": [],
   "source": [
    "param_distribs = {\n",
    "    \"n_units\": [10, 15, 30],# [TO COMPLETE] insert a list that contains few (2 or 3) reasonable value\n",
    "    \"learning_rate\": [1e-4, 2e-3] #[TO COMPLETE] insert a list that contains few (2 or 3) reasonable values\n",
    "    #Check how the time required to perform GRID search increases when increasing the number of values for each hyper-parameter.\n",
    "}"
   ]
  },
  {
   "cell_type": "markdown",
   "metadata": {
    "id": "bEiBxVYtx_sK"
   },
   "source": [
    "Use a sklearn.model_selection.GridSearchCV to search the hyperparameter space of your KerasRegressor"
   ]
  },
  {
   "cell_type": "code",
   "execution_count": null,
   "metadata": {
    "id": "iobF2Bvdr9ER"
   },
   "outputs": [],
   "source": [
    "from sklearn.model_selection import GridSearchCV\n",
    "\n",
    "grid_search = GridSearchCV(keras_reg, param_distribs)"
   ]
  },
  {
   "cell_type": "markdown",
   "metadata": {
    "id": "LVGMcZz_yKSX"
   },
   "source": [
    "Run the Grid-Search"
   ]
  },
  {
   "cell_type": "code",
   "execution_count": null,
   "metadata": {
    "colab": {
     "base_uri": "https://localhost:8080/"
    },
    "id": "-BA3vgTjr-hw",
    "outputId": "9909e7e3-8158-4bbc-8535-cc616150daad"
   },
   "outputs": [
    {
     "name": "stdout",
     "output_type": "stream",
     "text": [
      "Epoch 1/5\n",
      "625/625 [==============================] - 2s 3ms/step - loss: 0.6949 - accuracy: 0.5188 - val_loss: 0.6504 - val_accuracy: 0.6366\n",
      "Epoch 2/5\n",
      "625/625 [==============================] - 2s 3ms/step - loss: 0.6078 - accuracy: 0.7084 - val_loss: 0.4901 - val_accuracy: 0.7962\n",
      "Epoch 3/5\n",
      "625/625 [==============================] - 2s 3ms/step - loss: 0.4481 - accuracy: 0.8237 - val_loss: 0.4027 - val_accuracy: 0.8310\n",
      "Epoch 4/5\n",
      "625/625 [==============================] - 2s 3ms/step - loss: 0.3710 - accuracy: 0.8489 - val_loss: 0.3700 - val_accuracy: 0.8461\n",
      "Epoch 5/5\n",
      "625/625 [==============================] - 2s 3ms/step - loss: 0.3372 - accuracy: 0.8609 - val_loss: 0.3550 - val_accuracy: 0.8508\n",
      "157/157 [==============================] - 0s 2ms/step - loss: 0.3497 - accuracy: 0.8516\n",
      "Epoch 1/5\n",
      "625/625 [==============================] - 2s 3ms/step - loss: 0.6720 - accuracy: 0.5809 - val_loss: 0.5545 - val_accuracy: 0.7613\n",
      "Epoch 2/5\n",
      "625/625 [==============================] - 2s 3ms/step - loss: 0.5106 - accuracy: 0.7931 - val_loss: 0.4351 - val_accuracy: 0.8245\n",
      "Epoch 3/5\n",
      "625/625 [==============================] - 2s 3ms/step - loss: 0.4102 - accuracy: 0.8366 - val_loss: 0.3845 - val_accuracy: 0.8413\n",
      "Epoch 4/5\n",
      "625/625 [==============================] - 2s 3ms/step - loss: 0.3590 - accuracy: 0.8583 - val_loss: 0.3609 - val_accuracy: 0.8484\n",
      "Epoch 5/5\n",
      "625/625 [==============================] - 2s 3ms/step - loss: 0.3304 - accuracy: 0.8669 - val_loss: 0.3492 - val_accuracy: 0.8535\n",
      "157/157 [==============================] - 0s 2ms/step - loss: 0.3383 - accuracy: 0.8556\n",
      "Epoch 1/5\n",
      "625/625 [==============================] - 2s 3ms/step - loss: 0.6861 - accuracy: 0.5514 - val_loss: 0.6400 - val_accuracy: 0.6730\n",
      "Epoch 2/5\n",
      "625/625 [==============================] - 2s 3ms/step - loss: 0.6059 - accuracy: 0.7313 - val_loss: 0.5038 - val_accuracy: 0.8047\n",
      "Epoch 3/5\n",
      "625/625 [==============================] - 2s 3ms/step - loss: 0.4687 - accuracy: 0.8224 - val_loss: 0.4125 - val_accuracy: 0.8399\n",
      "Epoch 4/5\n",
      "625/625 [==============================] - 2s 3ms/step - loss: 0.3834 - accuracy: 0.8537 - val_loss: 0.3730 - val_accuracy: 0.8504\n",
      "Epoch 5/5\n",
      "625/625 [==============================] - 2s 3ms/step - loss: 0.3447 - accuracy: 0.8668 - val_loss: 0.3540 - val_accuracy: 0.8534\n",
      "157/157 [==============================] - 0s 2ms/step - loss: 0.3545 - accuracy: 0.8508\n",
      "Epoch 1/5\n",
      "625/625 [==============================] - 2s 3ms/step - loss: 0.6765 - accuracy: 0.5751 - val_loss: 0.5836 - val_accuracy: 0.7609\n",
      "Epoch 2/5\n",
      "625/625 [==============================] - 2s 3ms/step - loss: 0.5385 - accuracy: 0.7954 - val_loss: 0.4553 - val_accuracy: 0.8202\n",
      "Epoch 3/5\n",
      "625/625 [==============================] - 2s 3ms/step - loss: 0.4265 - accuracy: 0.8362 - val_loss: 0.3924 - val_accuracy: 0.8441\n",
      "Epoch 4/5\n",
      "625/625 [==============================] - 2s 3ms/step - loss: 0.3681 - accuracy: 0.8515 - val_loss: 0.3636 - val_accuracy: 0.8512\n",
      "Epoch 5/5\n",
      "625/625 [==============================] - 2s 3ms/step - loss: 0.3356 - accuracy: 0.8691 - val_loss: 0.3496 - val_accuracy: 0.8550\n",
      "157/157 [==============================] - 0s 2ms/step - loss: 0.3463 - accuracy: 0.8562\n",
      "Epoch 1/5\n",
      "625/625 [==============================] - 2s 3ms/step - loss: 0.6870 - accuracy: 0.5364 - val_loss: 0.6182 - val_accuracy: 0.7127\n",
      "Epoch 2/5\n",
      "625/625 [==============================] - 2s 3ms/step - loss: 0.5671 - accuracy: 0.7569 - val_loss: 0.4666 - val_accuracy: 0.8118\n",
      "Epoch 3/5\n",
      "625/625 [==============================] - 2s 3ms/step - loss: 0.4327 - accuracy: 0.8249 - val_loss: 0.3975 - val_accuracy: 0.8368\n",
      "Epoch 4/5\n",
      "625/625 [==============================] - 2s 3ms/step - loss: 0.3701 - accuracy: 0.8486 - val_loss: 0.3677 - val_accuracy: 0.8466\n",
      "Epoch 5/5\n",
      "625/625 [==============================] - 2s 3ms/step - loss: 0.3402 - accuracy: 0.8614 - val_loss: 0.3535 - val_accuracy: 0.8501\n",
      "157/157 [==============================] - 0s 2ms/step - loss: 0.3402 - accuracy: 0.8570\n",
      "Epoch 1/5\n",
      "625/625 [==============================] - 2s 3ms/step - loss: 0.6663 - accuracy: 0.5844 - val_loss: 0.5030 - val_accuracy: 0.7875\n",
      "Epoch 2/5\n",
      "625/625 [==============================] - 2s 3ms/step - loss: 0.4491 - accuracy: 0.8160 - val_loss: 0.3904 - val_accuracy: 0.8351\n",
      "Epoch 3/5\n",
      "625/625 [==============================] - 2s 3ms/step - loss: 0.3600 - accuracy: 0.8554 - val_loss: 0.3576 - val_accuracy: 0.8478\n",
      "Epoch 4/5\n",
      "625/625 [==============================] - 2s 3ms/step - loss: 0.3259 - accuracy: 0.8651 - val_loss: 0.3467 - val_accuracy: 0.8500\n",
      "Epoch 5/5\n",
      "625/625 [==============================] - 2s 3ms/step - loss: 0.3044 - accuracy: 0.8732 - val_loss: 0.3427 - val_accuracy: 0.8529\n",
      "157/157 [==============================] - 0s 2ms/step - loss: 0.3370 - accuracy: 0.8598\n",
      "Epoch 1/5\n",
      "625/625 [==============================] - 2s 3ms/step - loss: 0.6718 - accuracy: 0.5794 - val_loss: 0.5165 - val_accuracy: 0.7939\n",
      "Epoch 2/5\n",
      "625/625 [==============================] - 2s 3ms/step - loss: 0.4624 - accuracy: 0.8205 - val_loss: 0.3925 - val_accuracy: 0.8398\n",
      "Epoch 3/5\n",
      "625/625 [==============================] - 2s 3ms/step - loss: 0.3682 - accuracy: 0.8511 - val_loss: 0.3572 - val_accuracy: 0.8498\n",
      "Epoch 4/5\n",
      "625/625 [==============================] - 2s 3ms/step - loss: 0.3306 - accuracy: 0.8642 - val_loss: 0.3450 - val_accuracy: 0.8542\n",
      "Epoch 5/5\n",
      "625/625 [==============================] - 2s 3ms/step - loss: 0.3098 - accuracy: 0.8747 - val_loss: 0.3396 - val_accuracy: 0.8571\n",
      "157/157 [==============================] - 0s 2ms/step - loss: 0.3300 - accuracy: 0.8608\n",
      "Epoch 1/5\n",
      "625/625 [==============================] - 2s 3ms/step - loss: 0.6787 - accuracy: 0.5595 - val_loss: 0.5494 - val_accuracy: 0.7722\n",
      "Epoch 2/5\n",
      "625/625 [==============================] - 2s 3ms/step - loss: 0.4873 - accuracy: 0.8053 - val_loss: 0.4058 - val_accuracy: 0.8313\n",
      "Epoch 3/5\n",
      "625/625 [==============================] - 2s 3ms/step - loss: 0.3758 - accuracy: 0.8439 - val_loss: 0.3624 - val_accuracy: 0.8464\n",
      "Epoch 4/5\n",
      "625/625 [==============================] - 2s 3ms/step - loss: 0.3317 - accuracy: 0.8624 - val_loss: 0.3471 - val_accuracy: 0.8504\n",
      "Epoch 5/5\n",
      "625/625 [==============================] - 2s 3ms/step - loss: 0.3101 - accuracy: 0.8731 - val_loss: 0.3405 - val_accuracy: 0.8538\n",
      "157/157 [==============================] - 0s 2ms/step - loss: 0.3427 - accuracy: 0.8496\n",
      "Epoch 1/5\n",
      "625/625 [==============================] - 2s 3ms/step - loss: 0.6867 - accuracy: 0.5472 - val_loss: 0.5589 - val_accuracy: 0.7638\n",
      "Epoch 2/5\n",
      "625/625 [==============================] - 2s 3ms/step - loss: 0.4865 - accuracy: 0.8068 - val_loss: 0.4007 - val_accuracy: 0.8299\n",
      "Epoch 3/5\n",
      "625/625 [==============================] - 2s 3ms/step - loss: 0.3661 - accuracy: 0.8498 - val_loss: 0.3597 - val_accuracy: 0.8464\n",
      "Epoch 4/5\n",
      "625/625 [==============================] - 2s 3ms/step - loss: 0.3284 - accuracy: 0.8633 - val_loss: 0.3461 - val_accuracy: 0.8527\n",
      "Epoch 5/5\n",
      "625/625 [==============================] - 2s 3ms/step - loss: 0.3068 - accuracy: 0.8719 - val_loss: 0.3411 - val_accuracy: 0.8538\n",
      "157/157 [==============================] - 0s 2ms/step - loss: 0.3375 - accuracy: 0.8590\n",
      "Epoch 1/5\n",
      "625/625 [==============================] - 2s 3ms/step - loss: 0.6677 - accuracy: 0.5908 - val_loss: 0.5150 - val_accuracy: 0.7835\n",
      "Epoch 2/5\n",
      "625/625 [==============================] - 2s 3ms/step - loss: 0.4646 - accuracy: 0.8113 - val_loss: 0.3934 - val_accuracy: 0.8346\n",
      "Epoch 3/5\n",
      "625/625 [==============================] - 2s 3ms/step - loss: 0.3655 - accuracy: 0.8523 - val_loss: 0.3578 - val_accuracy: 0.8480\n",
      "Epoch 4/5\n",
      "625/625 [==============================] - 2s 3ms/step - loss: 0.3305 - accuracy: 0.8642 - val_loss: 0.3459 - val_accuracy: 0.8538\n",
      "Epoch 5/5\n",
      "625/625 [==============================] - 2s 3ms/step - loss: 0.3117 - accuracy: 0.8734 - val_loss: 0.3418 - val_accuracy: 0.8550\n",
      "157/157 [==============================] - 0s 2ms/step - loss: 0.3355 - accuracy: 0.8594\n",
      "Epoch 1/5\n",
      "625/625 [==============================] - 2s 3ms/step - loss: 0.5658 - accuracy: 0.7108 - val_loss: 0.3511 - val_accuracy: 0.8533\n",
      "Epoch 2/5\n",
      "625/625 [==============================] - 2s 3ms/step - loss: 0.3198 - accuracy: 0.8699 - val_loss: 0.3400 - val_accuracy: 0.8532\n",
      "Epoch 3/5\n",
      "625/625 [==============================] - 2s 3ms/step - loss: 0.3050 - accuracy: 0.8747 - val_loss: 0.3427 - val_accuracy: 0.8530\n",
      "Epoch 4/5\n",
      "625/625 [==============================] - 2s 3ms/step - loss: 0.2976 - accuracy: 0.8774 - val_loss: 0.3430 - val_accuracy: 0.8523\n",
      "Epoch 5/5\n",
      "625/625 [==============================] - 2s 3ms/step - loss: 0.2789 - accuracy: 0.8864 - val_loss: 0.3578 - val_accuracy: 0.8474\n",
      "157/157 [==============================] - 0s 2ms/step - loss: 0.3547 - accuracy: 0.8570\n",
      "Epoch 1/5\n",
      "625/625 [==============================] - 2s 3ms/step - loss: 0.5718 - accuracy: 0.6978 - val_loss: 0.3484 - val_accuracy: 0.8505\n",
      "Epoch 2/5\n",
      "625/625 [==============================] - 2s 3ms/step - loss: 0.3190 - accuracy: 0.8697 - val_loss: 0.3394 - val_accuracy: 0.8550\n",
      "Epoch 3/5\n",
      "625/625 [==============================] - 2s 3ms/step - loss: 0.3081 - accuracy: 0.8746 - val_loss: 0.3417 - val_accuracy: 0.8548\n",
      "Epoch 4/5\n",
      "625/625 [==============================] - 2s 3ms/step - loss: 0.2980 - accuracy: 0.8789 - val_loss: 0.3425 - val_accuracy: 0.8533\n",
      "Epoch 5/5\n",
      "625/625 [==============================] - 2s 3ms/step - loss: 0.2803 - accuracy: 0.8884 - val_loss: 0.3496 - val_accuracy: 0.8502\n",
      "157/157 [==============================] - 0s 2ms/step - loss: 0.3380 - accuracy: 0.8590\n",
      "Epoch 1/5\n",
      "625/625 [==============================] - 2s 3ms/step - loss: 0.5654 - accuracy: 0.6987 - val_loss: 0.3476 - val_accuracy: 0.8529\n",
      "Epoch 2/5\n",
      "625/625 [==============================] - 2s 3ms/step - loss: 0.3173 - accuracy: 0.8691 - val_loss: 0.3375 - val_accuracy: 0.8546\n",
      "Epoch 3/5\n",
      "625/625 [==============================] - 2s 3ms/step - loss: 0.3045 - accuracy: 0.8740 - val_loss: 0.3405 - val_accuracy: 0.8536\n",
      "Epoch 4/5\n",
      "625/625 [==============================] - 2s 3ms/step - loss: 0.2964 - accuracy: 0.8783 - val_loss: 0.3430 - val_accuracy: 0.8515\n",
      "Epoch 5/5\n",
      "625/625 [==============================] - 2s 3ms/step - loss: 0.2847 - accuracy: 0.8821 - val_loss: 0.3402 - val_accuracy: 0.8510\n",
      "157/157 [==============================] - 0s 2ms/step - loss: 0.3425 - accuracy: 0.8502\n",
      "Epoch 1/5\n",
      "625/625 [==============================] - 2s 3ms/step - loss: 0.5581 - accuracy: 0.7063 - val_loss: 0.3459 - val_accuracy: 0.8553\n",
      "Epoch 2/5\n",
      "625/625 [==============================] - 2s 3ms/step - loss: 0.3178 - accuracy: 0.8668 - val_loss: 0.3360 - val_accuracy: 0.8574\n",
      "Epoch 3/5\n",
      "625/625 [==============================] - 2s 3ms/step - loss: 0.3057 - accuracy: 0.8709 - val_loss: 0.3409 - val_accuracy: 0.8542\n",
      "Epoch 4/5\n",
      "625/625 [==============================] - 2s 3ms/step - loss: 0.3029 - accuracy: 0.8774 - val_loss: 0.3461 - val_accuracy: 0.8528\n",
      "Epoch 5/5\n",
      "625/625 [==============================] - 2s 3ms/step - loss: 0.2904 - accuracy: 0.8815 - val_loss: 0.3478 - val_accuracy: 0.8514\n",
      "157/157 [==============================] - 0s 2ms/step - loss: 0.3407 - accuracy: 0.8572\n",
      "Epoch 1/5\n",
      "625/625 [==============================] - 2s 3ms/step - loss: 0.5607 - accuracy: 0.7112 - val_loss: 0.3490 - val_accuracy: 0.8523\n",
      "Epoch 2/5\n",
      "625/625 [==============================] - 2s 3ms/step - loss: 0.3259 - accuracy: 0.8632 - val_loss: 0.3399 - val_accuracy: 0.8534\n",
      "Epoch 3/5\n",
      "625/625 [==============================] - 2s 3ms/step - loss: 0.3060 - accuracy: 0.8692 - val_loss: 0.3412 - val_accuracy: 0.8528\n",
      "Epoch 4/5\n",
      "625/625 [==============================] - 2s 3ms/step - loss: 0.2980 - accuracy: 0.8769 - val_loss: 0.3385 - val_accuracy: 0.8538\n",
      "Epoch 5/5\n",
      "625/625 [==============================] - 2s 3ms/step - loss: 0.2837 - accuracy: 0.8849 - val_loss: 0.3414 - val_accuracy: 0.8498\n",
      "157/157 [==============================] - 0s 2ms/step - loss: 0.3329 - accuracy: 0.8620\n",
      "Epoch 1/5\n",
      "625/625 [==============================] - 2s 3ms/step - loss: 0.5459 - accuracy: 0.7167 - val_loss: 0.3425 - val_accuracy: 0.8580\n",
      "Epoch 2/5\n",
      "625/625 [==============================] - 2s 3ms/step - loss: 0.3110 - accuracy: 0.8732 - val_loss: 0.3396 - val_accuracy: 0.8553\n",
      "Epoch 3/5\n",
      "625/625 [==============================] - 2s 3ms/step - loss: 0.3001 - accuracy: 0.8746 - val_loss: 0.3425 - val_accuracy: 0.8530\n",
      "Epoch 4/5\n",
      "625/625 [==============================] - 2s 3ms/step - loss: 0.2922 - accuracy: 0.8792 - val_loss: 0.3434 - val_accuracy: 0.8506\n",
      "Epoch 5/5\n",
      "625/625 [==============================] - 2s 3ms/step - loss: 0.2715 - accuracy: 0.8891 - val_loss: 0.3588 - val_accuracy: 0.8454\n",
      "157/157 [==============================] - 0s 2ms/step - loss: 0.3523 - accuracy: 0.8536\n",
      "Epoch 1/5\n",
      "625/625 [==============================] - 2s 3ms/step - loss: 0.5442 - accuracy: 0.7205 - val_loss: 0.3410 - val_accuracy: 0.8552\n",
      "Epoch 2/5\n",
      "625/625 [==============================] - 2s 3ms/step - loss: 0.3130 - accuracy: 0.8696 - val_loss: 0.3401 - val_accuracy: 0.8554\n",
      "Epoch 3/5\n",
      "625/625 [==============================] - 2s 3ms/step - loss: 0.3044 - accuracy: 0.8743 - val_loss: 0.3466 - val_accuracy: 0.8496\n",
      "Epoch 4/5\n",
      "625/625 [==============================] - 2s 3ms/step - loss: 0.2954 - accuracy: 0.8785 - val_loss: 0.3390 - val_accuracy: 0.8530\n",
      "Epoch 5/5\n",
      "625/625 [==============================] - 2s 3ms/step - loss: 0.2750 - accuracy: 0.8860 - val_loss: 0.3472 - val_accuracy: 0.8510\n",
      "157/157 [==============================] - 0s 2ms/step - loss: 0.3357 - accuracy: 0.8602\n",
      "Epoch 1/5\n",
      "625/625 [==============================] - 2s 3ms/step - loss: 0.5674 - accuracy: 0.6858 - val_loss: 0.3428 - val_accuracy: 0.8535\n",
      "Epoch 2/5\n",
      "625/625 [==============================] - 2s 3ms/step - loss: 0.3140 - accuracy: 0.8722 - val_loss: 0.3353 - val_accuracy: 0.8545\n",
      "Epoch 3/5\n",
      "625/625 [==============================] - 2s 3ms/step - loss: 0.3023 - accuracy: 0.8756 - val_loss: 0.3434 - val_accuracy: 0.8518\n",
      "Epoch 4/5\n",
      "625/625 [==============================] - 2s 3ms/step - loss: 0.2875 - accuracy: 0.8826 - val_loss: 0.3458 - val_accuracy: 0.8494\n",
      "Epoch 5/5\n",
      "625/625 [==============================] - 2s 3ms/step - loss: 0.2636 - accuracy: 0.8929 - val_loss: 0.3496 - val_accuracy: 0.8487\n",
      "157/157 [==============================] - 0s 2ms/step - loss: 0.3492 - accuracy: 0.8524\n",
      "Epoch 1/5\n",
      "625/625 [==============================] - 2s 3ms/step - loss: 0.5384 - accuracy: 0.7148 - val_loss: 0.3459 - val_accuracy: 0.8522\n",
      "Epoch 2/5\n",
      "625/625 [==============================] - 2s 3ms/step - loss: 0.3121 - accuracy: 0.8693 - val_loss: 0.3378 - val_accuracy: 0.8545\n",
      "Epoch 3/5\n",
      "625/625 [==============================] - 2s 3ms/step - loss: 0.3023 - accuracy: 0.8718 - val_loss: 0.3442 - val_accuracy: 0.8515\n",
      "Epoch 4/5\n",
      "625/625 [==============================] - 2s 3ms/step - loss: 0.2969 - accuracy: 0.8790 - val_loss: 0.3398 - val_accuracy: 0.8551\n",
      "Epoch 5/5\n",
      "625/625 [==============================] - 2s 3ms/step - loss: 0.2779 - accuracy: 0.8853 - val_loss: 0.3452 - val_accuracy: 0.8512\n",
      "157/157 [==============================] - 0s 2ms/step - loss: 0.3382 - accuracy: 0.8574\n",
      "Epoch 1/5\n",
      "625/625 [==============================] - 2s 3ms/step - loss: 0.5193 - accuracy: 0.7303 - val_loss: 0.3463 - val_accuracy: 0.8527\n",
      "Epoch 2/5\n",
      "625/625 [==============================] - 2s 3ms/step - loss: 0.3192 - accuracy: 0.8660 - val_loss: 0.3426 - val_accuracy: 0.8521\n",
      "Epoch 3/5\n",
      "625/625 [==============================] - 2s 3ms/step - loss: 0.3030 - accuracy: 0.8717 - val_loss: 0.3512 - val_accuracy: 0.8474\n",
      "Epoch 4/5\n",
      "625/625 [==============================] - 2s 3ms/step - loss: 0.2932 - accuracy: 0.8806 - val_loss: 0.3420 - val_accuracy: 0.8511\n",
      "Epoch 5/5\n",
      "625/625 [==============================] - 2s 3ms/step - loss: 0.2715 - accuracy: 0.8893 - val_loss: 0.3445 - val_accuracy: 0.8502\n",
      "157/157 [==============================] - 0s 2ms/step - loss: 0.3320 - accuracy: 0.8546\n",
      "Epoch 1/5\n",
      "782/782 [==============================] - 3s 3ms/step - loss: 0.6451 - accuracy: 0.6211 - val_loss: 0.4514 - val_accuracy: 0.8086\n",
      "Epoch 2/5\n",
      "782/782 [==============================] - 2s 3ms/step - loss: 0.4142 - accuracy: 0.8274 - val_loss: 0.3623 - val_accuracy: 0.8448\n",
      "Epoch 3/5\n",
      "782/782 [==============================] - 2s 3ms/step - loss: 0.3353 - accuracy: 0.8606 - val_loss: 0.3430 - val_accuracy: 0.8515\n",
      "Epoch 4/5\n",
      "782/782 [==============================] - 2s 3ms/step - loss: 0.3171 - accuracy: 0.8665 - val_loss: 0.3369 - val_accuracy: 0.8555\n",
      "Epoch 5/5\n",
      "782/782 [==============================] - 2s 3ms/step - loss: 0.3077 - accuracy: 0.8738 - val_loss: 0.3359 - val_accuracy: 0.8569\n"
     ]
    },
    {
     "data": {
      "text/plain": [
       "GridSearchCV(cv=None, error_score=nan,\n",
       "             estimator=<tensorflow.python.keras.wrappers.scikit_learn.KerasRegressor object at 0x7f1d8243a890>,\n",
       "             iid='deprecated', n_jobs=None,\n",
       "             param_grid={'learning_rate': [0.0001, 0.0005],\n",
       "                         'n_units': [10, 20]},\n",
       "             pre_dispatch='2*n_jobs', refit=True, return_train_score=False,\n",
       "             scoring=None, verbose=0)"
      ]
     },
     "execution_count": 81,
     "metadata": {
      "tags": []
     },
     "output_type": "execute_result"
    }
   ],
   "source": [
    "grid_search.fit(X_train.numpy(), y_train, epochs=5,#The number of epochs can be modified (check what happens by increasing it)\n",
    "                validation_data=(X_valid.numpy(), y_valid))"
   ]
  },
  {
   "cell_type": "markdown",
   "metadata": {
    "id": "aadmkiOoyM94"
   },
   "source": [
    "Print the best hyper-parameters, and evealuate the best model on the test set."
   ]
  },
  {
   "cell_type": "code",
   "execution_count": null,
   "metadata": {
    "colab": {
     "base_uri": "https://localhost:8080/"
    },
    "id": "b0nL5OZkylNX",
    "outputId": "8b304dbd-fe78-4033-bd3e-4f483cc80025"
   },
   "outputs": [
    {
     "name": "stdout",
     "output_type": "stream",
     "text": [
      "{'learning_rate': 0.0001, 'n_units': 20}\n",
      "391/391 [==============================] - 1s 2ms/step - loss: 0.3185 - accuracy: 0.8659\n"
     ]
    },
    {
     "data": {
      "text/plain": [
       "[0.31846946477890015, 0.8659200072288513]"
      ]
     },
     "execution_count": 82,
     "metadata": {
      "tags": []
     },
     "output_type": "execute_result"
    }
   ],
   "source": [
    "print(grid_search.best_params_)\n",
    "\n",
    "model = grid_search.best_estimator_.model\n",
    "model.evaluate(X_test, y_test)"
   ]
  }
 ],
 "metadata": {
  "accelerator": "GPU",
  "colab": {
   "collapsed_sections": [],
   "name": "HW2.ipynb",
   "provenance": [],
   "toc_visible": true
  },
  "kernelspec": {
   "display_name": "Python 3",
   "language": "python",
   "name": "python3"
  },
  "language_info": {
   "codemirror_mode": {
    "name": "ipython",
    "version": 3
   },
   "file_extension": ".py",
   "mimetype": "text/x-python",
   "name": "python",
   "nbconvert_exporter": "python",
   "pygments_lexer": "ipython3",
   "version": "3.8.8"
  }
 },
 "nbformat": 4,
 "nbformat_minor": 1
}
